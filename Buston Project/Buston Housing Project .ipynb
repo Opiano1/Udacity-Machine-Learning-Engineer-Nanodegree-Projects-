{
 "cells": [
  {
   "cell_type": "markdown",
   "metadata": {
    "_cell_guid": "35390c2c-2f59-4443-ac68-053195628629",
    "_uuid": "7c9c4a0fbb902735a4c7009c48c69895218f7105"
   },
   "source": [
    "# Load libraries"
   ]
  },
  {
   "cell_type": "code",
   "execution_count": 164,
   "metadata": {
    "_cell_guid": "349c6820-55d4-4cd0-9fe8-4bc45948a599",
    "_execution_state": "idle",
    "_uuid": "2e9f65b6b1c1e32e1a1bd1249d171e1b656bb2fc"
   },
   "outputs": [],
   "source": [
    "import numpy\n",
    "from numpy import arange\n",
    "from matplotlib import pyplot as plt\n",
    "import seaborn as sns\n",
    "import pandas as pd\n",
    "from pandas import read_csv\n",
    "from pandas import set_option\n",
    "from pandas.tools.plotting import scatter_matrix\n",
    "from sklearn.preprocessing import StandardScaler\n",
    "from sklearn.model_selection import train_test_split\n",
    "from sklearn.model_selection import KFold\n",
    "from sklearn.model_selection import cross_val_score\n",
    "from sklearn.model_selection import GridSearchCV\n",
    "from sklearn.linear_model import LinearRegression\n",
    "from sklearn.linear_model import Lasso\n",
    "from sklearn.linear_model import ElasticNet\n",
    "from sklearn.tree import DecisionTreeRegressor\n",
    "from sklearn.neighbors import KNeighborsRegressor\n",
    "from sklearn.svm import SVR\n",
    "from sklearn.pipeline import Pipeline\n",
    "from sklearn.ensemble import RandomForestRegressor\n",
    "from sklearn.ensemble import GradientBoostingRegressor\n",
    "from sklearn.ensemble import ExtraTreesRegressor\n",
    "from sklearn.ensemble import AdaBoostRegressor\n",
    "from sklearn.metrics import mean_squared_error\n",
    "import warnings\n",
    "warnings.filterwarnings('ignore')\n"
   ]
  },
  {
   "cell_type": "markdown",
   "metadata": {
    "_cell_guid": "7128f5c7-5a18-4073-b3a3-5d340772be3a",
    "_execution_state": "idle",
    "_uuid": "410e54d14d9e195158b5fb7f2804cc054b04488c",
    "collapsed": true
   },
   "source": [
    "# Load dataset"
   ]
  },
  {
   "cell_type": "code",
   "execution_count": 113,
   "metadata": {
    "_cell_guid": "f129289e-daf2-496c-8b02-484df6b0e17b",
    "_execution_state": "idle",
    "_uuid": "2ee4e998eb2914fcf79ed1a9d11dbec5ad5655ca"
   },
   "outputs": [],
   "source": [
    "filename = (\"train.csv\")\n",
    "dataset = read_csv(filename)\n",
    "\n"
   ]
  },
  {
   "cell_type": "markdown",
   "metadata": {
    "_cell_guid": "406a8b76-8bf6-4a4e-937f-8e5b1a696287",
    "_execution_state": "idle",
    "_uuid": "d3d8fbf3460b43990555956ad419b35aab56d5f3"
   },
   "source": [
    "# Summarize Data\n",
    "no of rows and coloumns"
   ]
  },
  {
   "cell_type": "code",
   "execution_count": 114,
   "metadata": {
    "_cell_guid": "e3f26feb-5ff7-4c4b-ba70-4978c5acb7ac",
    "_execution_state": "idle",
    "_uuid": "6f1797c6d2d1d634ae2b0ac8421963fc33fcd2df"
   },
   "outputs": [
    {
     "name": "stdout",
     "output_type": "stream",
     "text": [
      "(333, 15)\n"
     ]
    }
   ],
   "source": [
    "# Descriptive statistics\n",
    "# shape\n",
    "print(dataset.shape)"
   ]
  },
  {
   "cell_type": "code",
   "execution_count": 115,
   "metadata": {
    "_cell_guid": "0e620983-ec0f-4481-9319-a09e41dd9236",
    "_uuid": "59c1e02fafc5f2ebd3aa30c0337a7cf45a615a12"
   },
   "outputs": [
    {
     "data": {
      "text/plain": [
       "ID           int64\n",
       "crim       float64\n",
       "zn         float64\n",
       "indus      float64\n",
       "chas         int64\n",
       "nox        float64\n",
       "rm         float64\n",
       "age        float64\n",
       "dis        float64\n",
       "rad          int64\n",
       "tax          int64\n",
       "ptratio    float64\n",
       "black      float64\n",
       "lstat      float64\n",
       "medv       float64\n",
       "dtype: object"
      ]
     },
     "execution_count": 115,
     "metadata": {},
     "output_type": "execute_result"
    }
   ],
   "source": [
    "# types\n",
    "dataset.dtypes"
   ]
  },
  {
   "cell_type": "code",
   "execution_count": 116,
   "metadata": {
    "_cell_guid": "cd2c2d1b-8968-4163-b16f-c2f3f442c1cb",
    "_uuid": "2e5e0d8656503b0c5912c6e360eeb157c9f14c68"
   },
   "outputs": [
    {
     "data": {
      "text/html": [
       "<div>\n",
       "<style scoped>\n",
       "    .dataframe tbody tr th:only-of-type {\n",
       "        vertical-align: middle;\n",
       "    }\n",
       "\n",
       "    .dataframe tbody tr th {\n",
       "        vertical-align: top;\n",
       "    }\n",
       "\n",
       "    .dataframe thead th {\n",
       "        text-align: right;\n",
       "    }\n",
       "</style>\n",
       "<table border=\"1\" class=\"dataframe\">\n",
       "  <thead>\n",
       "    <tr style=\"text-align: right;\">\n",
       "      <th></th>\n",
       "      <th>ID</th>\n",
       "      <th>crim</th>\n",
       "      <th>zn</th>\n",
       "      <th>indus</th>\n",
       "      <th>chas</th>\n",
       "      <th>nox</th>\n",
       "      <th>rm</th>\n",
       "      <th>age</th>\n",
       "      <th>dis</th>\n",
       "      <th>rad</th>\n",
       "      <th>tax</th>\n",
       "      <th>ptratio</th>\n",
       "      <th>black</th>\n",
       "      <th>lstat</th>\n",
       "      <th>medv</th>\n",
       "    </tr>\n",
       "  </thead>\n",
       "  <tbody>\n",
       "    <tr>\n",
       "      <th>0</th>\n",
       "      <td>1</td>\n",
       "      <td>6.3e-03</td>\n",
       "      <td>18.0</td>\n",
       "      <td>2.3</td>\n",
       "      <td>0</td>\n",
       "      <td>0.5</td>\n",
       "      <td>6.6</td>\n",
       "      <td>65.2</td>\n",
       "      <td>4.1</td>\n",
       "      <td>1</td>\n",
       "      <td>296</td>\n",
       "      <td>15.3</td>\n",
       "      <td>396.9</td>\n",
       "      <td>5.0</td>\n",
       "      <td>24.0</td>\n",
       "    </tr>\n",
       "    <tr>\n",
       "      <th>1</th>\n",
       "      <td>2</td>\n",
       "      <td>2.7e-02</td>\n",
       "      <td>0.0</td>\n",
       "      <td>7.1</td>\n",
       "      <td>0</td>\n",
       "      <td>0.5</td>\n",
       "      <td>6.4</td>\n",
       "      <td>78.9</td>\n",
       "      <td>5.0</td>\n",
       "      <td>2</td>\n",
       "      <td>242</td>\n",
       "      <td>17.8</td>\n",
       "      <td>396.9</td>\n",
       "      <td>9.1</td>\n",
       "      <td>21.6</td>\n",
       "    </tr>\n",
       "    <tr>\n",
       "      <th>2</th>\n",
       "      <td>4</td>\n",
       "      <td>3.2e-02</td>\n",
       "      <td>0.0</td>\n",
       "      <td>2.2</td>\n",
       "      <td>0</td>\n",
       "      <td>0.5</td>\n",
       "      <td>7.0</td>\n",
       "      <td>45.8</td>\n",
       "      <td>6.1</td>\n",
       "      <td>3</td>\n",
       "      <td>222</td>\n",
       "      <td>18.7</td>\n",
       "      <td>394.6</td>\n",
       "      <td>2.9</td>\n",
       "      <td>33.4</td>\n",
       "    </tr>\n",
       "    <tr>\n",
       "      <th>3</th>\n",
       "      <td>5</td>\n",
       "      <td>6.9e-02</td>\n",
       "      <td>0.0</td>\n",
       "      <td>2.2</td>\n",
       "      <td>0</td>\n",
       "      <td>0.5</td>\n",
       "      <td>7.1</td>\n",
       "      <td>54.2</td>\n",
       "      <td>6.1</td>\n",
       "      <td>3</td>\n",
       "      <td>222</td>\n",
       "      <td>18.7</td>\n",
       "      <td>396.9</td>\n",
       "      <td>5.3</td>\n",
       "      <td>36.2</td>\n",
       "    </tr>\n",
       "    <tr>\n",
       "      <th>4</th>\n",
       "      <td>7</td>\n",
       "      <td>8.8e-02</td>\n",
       "      <td>12.5</td>\n",
       "      <td>7.9</td>\n",
       "      <td>0</td>\n",
       "      <td>0.5</td>\n",
       "      <td>6.0</td>\n",
       "      <td>66.6</td>\n",
       "      <td>5.6</td>\n",
       "      <td>5</td>\n",
       "      <td>311</td>\n",
       "      <td>15.2</td>\n",
       "      <td>395.6</td>\n",
       "      <td>12.4</td>\n",
       "      <td>22.9</td>\n",
       "    </tr>\n",
       "  </tbody>\n",
       "</table>\n",
       "</div>"
      ],
      "text/plain": [
       "   ID     crim    zn  indus  chas  nox   rm   age  dis  rad  tax  ptratio  \\\n",
       "0   1  6.3e-03  18.0    2.3     0  0.5  6.6  65.2  4.1    1  296     15.3   \n",
       "1   2  2.7e-02   0.0    7.1     0  0.5  6.4  78.9  5.0    2  242     17.8   \n",
       "2   4  3.2e-02   0.0    2.2     0  0.5  7.0  45.8  6.1    3  222     18.7   \n",
       "3   5  6.9e-02   0.0    2.2     0  0.5  7.1  54.2  6.1    3  222     18.7   \n",
       "4   7  8.8e-02  12.5    7.9     0  0.5  6.0  66.6  5.6    5  311     15.2   \n",
       "\n",
       "   black  lstat  medv  \n",
       "0  396.9    5.0  24.0  \n",
       "1  396.9    9.1  21.6  \n",
       "2  394.6    2.9  33.4  \n",
       "3  396.9    5.3  36.2  \n",
       "4  395.6   12.4  22.9  "
      ]
     },
     "execution_count": 116,
     "metadata": {},
     "output_type": "execute_result"
    }
   ],
   "source": [
    "# head\n",
    "dataset.head()\n",
    "# descriptions, change precision to 2 places\n"
   ]
  },
  {
   "cell_type": "markdown",
   "metadata": {
    "_cell_guid": "b801d44d-65c0-4ff5-b66b-03affa65f843",
    "_uuid": "f32b23b40fd06f3107fd930642336dfee5988179",
    "collapsed": true
   },
   "source": [
    "\n",
    "'RM' is the average number of rooms among homes in the neighborhood.\n",
    "'LSTAT' is the percentage of homeowners in the neighborhood considered \"lower class\" (working poor).\n",
    "'PTRATIO' is the ratio of students to teachers in primary and secondary schools in the neighborhood.\n",
    "\n",
    "\n",
    "\n",
    "\n",
    "                          "
   ]
  },
  {
   "cell_type": "code",
   "execution_count": null,
   "metadata": {},
   "outputs": [],
   "source": []
  },
  {
   "cell_type": "code",
   "execution_count": 75,
   "metadata": {
    "_cell_guid": "3c5af1fb-da04-4e95-933a-4bd5c1a28ecb",
    "_uuid": "31ed5b926eaf2d6d56ce84869ec03749297d6e53",
    "scrolled": true
   },
   "outputs": [
    {
     "data": {
      "text/html": [
       "<div>\n",
       "<style scoped>\n",
       "    .dataframe tbody tr th:only-of-type {\n",
       "        vertical-align: middle;\n",
       "    }\n",
       "\n",
       "    .dataframe tbody tr th {\n",
       "        vertical-align: top;\n",
       "    }\n",
       "\n",
       "    .dataframe thead th {\n",
       "        text-align: right;\n",
       "    }\n",
       "</style>\n",
       "<table border=\"1\" class=\"dataframe\">\n",
       "  <thead>\n",
       "    <tr style=\"text-align: right;\">\n",
       "      <th></th>\n",
       "      <th>ID</th>\n",
       "      <th>crim</th>\n",
       "      <th>zn</th>\n",
       "      <th>indus</th>\n",
       "      <th>chas</th>\n",
       "      <th>nox</th>\n",
       "      <th>rm</th>\n",
       "      <th>age</th>\n",
       "      <th>dis</th>\n",
       "      <th>rad</th>\n",
       "      <th>tax</th>\n",
       "      <th>ptratio</th>\n",
       "      <th>black</th>\n",
       "      <th>lstat</th>\n",
       "      <th>medv</th>\n",
       "    </tr>\n",
       "  </thead>\n",
       "  <tbody>\n",
       "    <tr>\n",
       "      <th>count</th>\n",
       "      <td>333.0</td>\n",
       "      <td>3.3e+02</td>\n",
       "      <td>333.0</td>\n",
       "      <td>333.0</td>\n",
       "      <td>3.3e+02</td>\n",
       "      <td>333.0</td>\n",
       "      <td>333.0</td>\n",
       "      <td>333.0</td>\n",
       "      <td>333.0</td>\n",
       "      <td>333.0</td>\n",
       "      <td>333.0</td>\n",
       "      <td>333.0</td>\n",
       "      <td>333.0</td>\n",
       "      <td>333.0</td>\n",
       "      <td>333.0</td>\n",
       "    </tr>\n",
       "    <tr>\n",
       "      <th>mean</th>\n",
       "      <td>251.0</td>\n",
       "      <td>3.4e+00</td>\n",
       "      <td>10.7</td>\n",
       "      <td>11.3</td>\n",
       "      <td>6.0e-02</td>\n",
       "      <td>0.6</td>\n",
       "      <td>6.3</td>\n",
       "      <td>68.2</td>\n",
       "      <td>3.7</td>\n",
       "      <td>9.6</td>\n",
       "      <td>409.3</td>\n",
       "      <td>18.4</td>\n",
       "      <td>359.5</td>\n",
       "      <td>12.5</td>\n",
       "      <td>22.8</td>\n",
       "    </tr>\n",
       "    <tr>\n",
       "      <th>std</th>\n",
       "      <td>147.9</td>\n",
       "      <td>7.4e+00</td>\n",
       "      <td>22.7</td>\n",
       "      <td>7.0</td>\n",
       "      <td>2.4e-01</td>\n",
       "      <td>0.1</td>\n",
       "      <td>0.7</td>\n",
       "      <td>28.1</td>\n",
       "      <td>2.0</td>\n",
       "      <td>8.7</td>\n",
       "      <td>170.8</td>\n",
       "      <td>2.2</td>\n",
       "      <td>86.6</td>\n",
       "      <td>7.1</td>\n",
       "      <td>9.2</td>\n",
       "    </tr>\n",
       "    <tr>\n",
       "      <th>min</th>\n",
       "      <td>1.0</td>\n",
       "      <td>6.3e-03</td>\n",
       "      <td>0.0</td>\n",
       "      <td>0.7</td>\n",
       "      <td>0.0e+00</td>\n",
       "      <td>0.4</td>\n",
       "      <td>3.6</td>\n",
       "      <td>6.0</td>\n",
       "      <td>1.1</td>\n",
       "      <td>1.0</td>\n",
       "      <td>188.0</td>\n",
       "      <td>12.6</td>\n",
       "      <td>3.5</td>\n",
       "      <td>1.7</td>\n",
       "      <td>5.0</td>\n",
       "    </tr>\n",
       "    <tr>\n",
       "      <th>25%</th>\n",
       "      <td>123.0</td>\n",
       "      <td>7.9e-02</td>\n",
       "      <td>0.0</td>\n",
       "      <td>5.1</td>\n",
       "      <td>0.0e+00</td>\n",
       "      <td>0.5</td>\n",
       "      <td>5.9</td>\n",
       "      <td>45.4</td>\n",
       "      <td>2.1</td>\n",
       "      <td>4.0</td>\n",
       "      <td>279.0</td>\n",
       "      <td>17.4</td>\n",
       "      <td>376.7</td>\n",
       "      <td>7.2</td>\n",
       "      <td>17.4</td>\n",
       "    </tr>\n",
       "    <tr>\n",
       "      <th>50%</th>\n",
       "      <td>244.0</td>\n",
       "      <td>2.6e-01</td>\n",
       "      <td>0.0</td>\n",
       "      <td>9.9</td>\n",
       "      <td>0.0e+00</td>\n",
       "      <td>0.5</td>\n",
       "      <td>6.2</td>\n",
       "      <td>76.7</td>\n",
       "      <td>3.1</td>\n",
       "      <td>5.0</td>\n",
       "      <td>330.0</td>\n",
       "      <td>19.0</td>\n",
       "      <td>392.1</td>\n",
       "      <td>11.0</td>\n",
       "      <td>21.6</td>\n",
       "    </tr>\n",
       "    <tr>\n",
       "      <th>75%</th>\n",
       "      <td>377.0</td>\n",
       "      <td>3.7e+00</td>\n",
       "      <td>12.5</td>\n",
       "      <td>18.1</td>\n",
       "      <td>0.0e+00</td>\n",
       "      <td>0.6</td>\n",
       "      <td>6.6</td>\n",
       "      <td>93.8</td>\n",
       "      <td>5.1</td>\n",
       "      <td>24.0</td>\n",
       "      <td>666.0</td>\n",
       "      <td>20.2</td>\n",
       "      <td>396.2</td>\n",
       "      <td>16.4</td>\n",
       "      <td>25.0</td>\n",
       "    </tr>\n",
       "    <tr>\n",
       "      <th>max</th>\n",
       "      <td>506.0</td>\n",
       "      <td>7.4e+01</td>\n",
       "      <td>100.0</td>\n",
       "      <td>27.7</td>\n",
       "      <td>1.0e+00</td>\n",
       "      <td>0.9</td>\n",
       "      <td>8.7</td>\n",
       "      <td>100.0</td>\n",
       "      <td>10.7</td>\n",
       "      <td>24.0</td>\n",
       "      <td>711.0</td>\n",
       "      <td>21.2</td>\n",
       "      <td>396.9</td>\n",
       "      <td>38.0</td>\n",
       "      <td>50.0</td>\n",
       "    </tr>\n",
       "  </tbody>\n",
       "</table>\n",
       "</div>"
      ],
      "text/plain": [
       "          ID     crim     zn  indus     chas    nox     rm    age    dis  \\\n",
       "count  333.0  3.3e+02  333.0  333.0  3.3e+02  333.0  333.0  333.0  333.0   \n",
       "mean   251.0  3.4e+00   10.7   11.3  6.0e-02    0.6    6.3   68.2    3.7   \n",
       "std    147.9  7.4e+00   22.7    7.0  2.4e-01    0.1    0.7   28.1    2.0   \n",
       "min      1.0  6.3e-03    0.0    0.7  0.0e+00    0.4    3.6    6.0    1.1   \n",
       "25%    123.0  7.9e-02    0.0    5.1  0.0e+00    0.5    5.9   45.4    2.1   \n",
       "50%    244.0  2.6e-01    0.0    9.9  0.0e+00    0.5    6.2   76.7    3.1   \n",
       "75%    377.0  3.7e+00   12.5   18.1  0.0e+00    0.6    6.6   93.8    5.1   \n",
       "max    506.0  7.4e+01  100.0   27.7  1.0e+00    0.9    8.7  100.0   10.7   \n",
       "\n",
       "         rad    tax  ptratio  black  lstat   medv  \n",
       "count  333.0  333.0    333.0  333.0  333.0  333.0  \n",
       "mean     9.6  409.3     18.4  359.5   12.5   22.8  \n",
       "std      8.7  170.8      2.2   86.6    7.1    9.2  \n",
       "min      1.0  188.0     12.6    3.5    1.7    5.0  \n",
       "25%      4.0  279.0     17.4  376.7    7.2   17.4  \n",
       "50%      5.0  330.0     19.0  392.1   11.0   21.6  \n",
       "75%     24.0  666.0     20.2  396.2   16.4   25.0  \n",
       "max     24.0  711.0     21.2  396.9   38.0   50.0  "
      ]
     },
     "execution_count": 75,
     "metadata": {},
     "output_type": "execute_result"
    }
   ],
   "source": [
    "set_option('precision', 1)\n",
    "dataset.describe()"
   ]
  },
  {
   "cell_type": "code",
   "execution_count": 118,
   "metadata": {},
   "outputs": [
    {
     "data": {
      "text/plain": [
       "ID        -0.2\n",
       "crim      -0.4\n",
       "zn         0.3\n",
       "indus     -0.5\n",
       "chas       0.2\n",
       "nox       -0.4\n",
       "rm         0.7\n",
       "age       -0.4\n",
       "dis        0.2\n",
       "rad       -0.4\n",
       "tax       -0.4\n",
       "ptratio   -0.5\n",
       "black      0.3\n",
       "lstat     -0.7\n",
       "medv       1.0\n",
       "Name: medv, dtype: float64"
      ]
     },
     "execution_count": 118,
     "metadata": {},
     "output_type": "execute_result"
    }
   ],
   "source": [
    "# correlation\n",
    "#set_option('precision', 2)\n",
    "#dataset.corr(method='pearson')\n",
    "dataset.corr()['medv']"
   ]
  },
  {
   "cell_type": "code",
   "execution_count": 126,
   "metadata": {},
   "outputs": [
    {
     "data": {
      "text/plain": [
       "Index(['crim', 'indus', 'nox', 'rm', 'tax', 'ptratio', 'lstat', 'medv'], dtype='object')"
      ]
     },
     "execution_count": 126,
     "metadata": {},
     "output_type": "execute_result"
    }
   ],
   "source": [
    "highly_correlated_features = dataset.columns[dataset.corr()['medv'].abs() > .4]\n",
    "\n",
    "highly_correlated_features\n"
   ]
  },
  {
   "cell_type": "markdown",
   "metadata": {
    "_cell_guid": "3a6ae13c-4559-4e75-86fd-61ef040d9fa3",
    "_uuid": "27d59ba4b7bd382bbc7f3a858a7ba19a9b28091e"
   },
   "source": [
    "From Correlation data,\n",
    "We can confim that variable  LSTAT, RM, AGE and PTRATIO have good corelation with our output variable MEDV.\n",
    "These variables we need to consider when we optimze our predictive value"
   ]
  },
  {
   "cell_type": "code",
   "execution_count": 127,
   "metadata": {
    "_cell_guid": "f1d7499e-2858-4280-8351-21208a6df116",
    "_execution_state": "idle",
    "_uuid": "07b98d56cd6a85e62273110f6f5d698adc355ab7"
   },
   "outputs": [
    {
     "data": {
      "image/png": "[encoded data removed]",
      "text/plain": [
       "<Figure size 648x504 with 16 Axes>"
      ]
     },
     "metadata": {
      "needs_background": "light"
     },
     "output_type": "display_data"
    }
   ],
   "source": [
    "# Data visualizations\n",
    "\n",
    "# histograms\n",
    "dataset.hist(bins=10,figsize=(9,7),grid=False)\n",
    "plt.tight_layout();"
   ]
  },
  {
   "cell_type": "code",
   "execution_count": null,
   "metadata": {},
   "outputs": [],
   "source": []
  },
  {
   "cell_type": "markdown",
   "metadata": {
    "_cell_guid": "5f0600fc-ecd7-4b83-bb08-5970fcb81d36",
    "_uuid": "5c20dbaf8657982852ae4b6d625b3f57a1ade102"
   },
   "source": [
    "We can see that some variables  have an exponential or skewed form of distribution, such as CRIM, black, ZN and Age. We can see that others  have a bimodal distribution such as RAD and TAX."
   ]
  },
  {
   "cell_type": "markdown",
   "metadata": {
    "_cell_guid": "9018c1cf-cbe1-42ad-832f-72ba1bed49c6",
    "_uuid": "7c6e3abd3ba737c99fb4f6b0d4f30017c49bc200"
   },
   "source": [
    "I do feel features 'RM', 'LSTAT', 'PTRATIO', and 'MEDV' are essential. The remaining non-relevant features have been excluded.\n",
    "Analysis from above  data:\n",
    "1)increase in RM value increases MEDV value ie price of the home.\n",
    "2) Lower the value of LSTAT higher the value of MEDV\n",
    "3) PTRATIO decrease in the value increases MEDV"
   ]
  },
  {
   "cell_type": "code",
   "execution_count": 128,
   "metadata": {},
   "outputs": [
    {
     "data": {
      "text/plain": [
       "Index(['ID', 'crim', 'zn', 'indus', 'chas', 'nox', 'rm', 'age', 'dis', 'rad',\n",
       "       'tax', 'ptratio', 'black', 'lstat', 'medv'],\n",
       "      dtype='object')"
      ]
     },
     "execution_count": 128,
     "metadata": {},
     "output_type": "execute_result"
    }
   ],
   "source": [
    "dataset.columns"
   ]
  },
  {
   "cell_type": "code",
   "execution_count": 136,
   "metadata": {},
   "outputs": [],
   "source": [
    "less_correlated_features = [feature for feature in dataset.columns if feature not in highly_correlated_features]"
   ]
  },
  {
   "cell_type": "code",
   "execution_count": 137,
   "metadata": {
    "_cell_guid": "1becb5d1-bd28-4c90-824f-2af12e74b233",
    "_uuid": "94b9ad7e754cb19da7a93bbd856a6842e00baf46"
   },
   "outputs": [
    {
     "data": {
      "text/html": [
       "<div>\n",
       "<style scoped>\n",
       "    .dataframe tbody tr th:only-of-type {\n",
       "        vertical-align: middle;\n",
       "    }\n",
       "\n",
       "    .dataframe tbody tr th {\n",
       "        vertical-align: top;\n",
       "    }\n",
       "\n",
       "    .dataframe thead th {\n",
       "        text-align: right;\n",
       "    }\n",
       "</style>\n",
       "<table border=\"1\" class=\"dataframe\">\n",
       "  <thead>\n",
       "    <tr style=\"text-align: right;\">\n",
       "      <th></th>\n",
       "      <th>crim</th>\n",
       "      <th>indus</th>\n",
       "      <th>nox</th>\n",
       "      <th>rm</th>\n",
       "      <th>tax</th>\n",
       "      <th>ptratio</th>\n",
       "      <th>lstat</th>\n",
       "      <th>medv</th>\n",
       "    </tr>\n",
       "  </thead>\n",
       "  <tbody>\n",
       "    <tr>\n",
       "      <th>0</th>\n",
       "      <td>6.3e-03</td>\n",
       "      <td>2.3</td>\n",
       "      <td>0.5</td>\n",
       "      <td>6.6</td>\n",
       "      <td>296</td>\n",
       "      <td>15.3</td>\n",
       "      <td>5.0</td>\n",
       "      <td>24.0</td>\n",
       "    </tr>\n",
       "    <tr>\n",
       "      <th>1</th>\n",
       "      <td>2.7e-02</td>\n",
       "      <td>7.1</td>\n",
       "      <td>0.5</td>\n",
       "      <td>6.4</td>\n",
       "      <td>242</td>\n",
       "      <td>17.8</td>\n",
       "      <td>9.1</td>\n",
       "      <td>21.6</td>\n",
       "    </tr>\n",
       "    <tr>\n",
       "      <th>2</th>\n",
       "      <td>3.2e-02</td>\n",
       "      <td>2.2</td>\n",
       "      <td>0.5</td>\n",
       "      <td>7.0</td>\n",
       "      <td>222</td>\n",
       "      <td>18.7</td>\n",
       "      <td>2.9</td>\n",
       "      <td>33.4</td>\n",
       "    </tr>\n",
       "    <tr>\n",
       "      <th>3</th>\n",
       "      <td>6.9e-02</td>\n",
       "      <td>2.2</td>\n",
       "      <td>0.5</td>\n",
       "      <td>7.1</td>\n",
       "      <td>222</td>\n",
       "      <td>18.7</td>\n",
       "      <td>5.3</td>\n",
       "      <td>36.2</td>\n",
       "    </tr>\n",
       "    <tr>\n",
       "      <th>4</th>\n",
       "      <td>8.8e-02</td>\n",
       "      <td>7.9</td>\n",
       "      <td>0.5</td>\n",
       "      <td>6.0</td>\n",
       "      <td>311</td>\n",
       "      <td>15.2</td>\n",
       "      <td>12.4</td>\n",
       "      <td>22.9</td>\n",
       "    </tr>\n",
       "  </tbody>\n",
       "</table>\n",
       "</div>"
      ],
      "text/plain": [
       "      crim  indus  nox   rm  tax  ptratio  lstat  medv\n",
       "0  6.3e-03    2.3  0.5  6.6  296     15.3    5.0  24.0\n",
       "1  2.7e-02    7.1  0.5  6.4  242     17.8    9.1  21.6\n",
       "2  3.2e-02    2.2  0.5  7.0  222     18.7    2.9  33.4\n",
       "3  6.9e-02    2.2  0.5  7.1  222     18.7    5.3  36.2\n",
       "4  8.8e-02    7.9  0.5  6.0  311     15.2   12.4  22.9"
      ]
     },
     "execution_count": 137,
     "metadata": {},
     "output_type": "execute_result"
    }
   ],
   "source": [
    "prices = dataset['medv']\n",
    "dataset = dataset.drop(less_correlated_features, axis = 1)\n",
    "features = dataset.drop('medv', axis = 1)\n",
    "dataset.head()\n",
    "#features.head()"
   ]
  },
  {
   "cell_type": "code",
   "execution_count": 138,
   "metadata": {},
   "outputs": [
    {
     "data": {
      "text/plain": [
       "Index(['crim', 'indus', 'nox', 'rm', 'tax', 'ptratio', 'lstat', 'medv'], dtype='object')"
      ]
     },
     "execution_count": 138,
     "metadata": {},
     "output_type": "execute_result"
    }
   ],
   "source": [
    "dataset.columns"
   ]
  },
  {
   "cell_type": "code",
   "execution_count": 57,
   "metadata": {
    "_cell_guid": "67aa4fbe-bdfb-4b0d-8f8a-c6d7c69ac8ea",
    "_uuid": "8720a95e509399f5c7710c52c1b691402171dbd3"
   },
   "outputs": [
    {
     "name": "stderr",
     "output_type": "stream",
     "text": [
      "C:\\Users\\Opeyemi\\Anaconda3\\lib\\site-packages\\scipy\\stats\\stats.py:1713: FutureWarning: Using a non-tuple sequence for multidimensional indexing is deprecated; use `arr[tuple(seq)]` instead of `arr[seq]`. In the future this will be interpreted as an array index, `arr[np.array(seq)]`, which will result either in an error or a different result.\n",
      "  return np.add.reduce(sorted[indexer] * weights, axis=axis) / sumval\n"
     ]
    },
    {
     "data": {
      "image/png": "[encoded data removed]",
      "text/plain": [
       "<Figure size 720x432 with 1 Axes>"
      ]
     },
     "metadata": {
      "needs_background": "light"
     },
     "output_type": "display_data"
    }
   ],
   "source": [
    "#histogram\n",
    "sns.distplot(dataset['medv']);"
   ]
  },
  {
   "cell_type": "markdown",
   "metadata": {
    "_cell_guid": "72e69a04-aedd-4f41-aeaa-f97e452f7743",
    "_uuid": "96357a2ef5d8d83547cb426d6b74a2284ef007f4"
   },
   "source": [
    "MEDV is Deviated from the normal distribution, have appreciable positive skewness and showed peakedness."
   ]
  },
  {
   "cell_type": "markdown",
   "metadata": {
    "_cell_guid": "68b217e3-c605-41a2-8cb2-3b7dbf4d6653",
    "_uuid": "3fb47e84a37c123d011d257d1bd73c594e13d2ce"
   },
   "source": [
    "Multivariate Visualization"
   ]
  },
  {
   "cell_type": "code",
   "execution_count": null,
   "metadata": {
    "_cell_guid": "f4b71827-3a3a-4f6b-a64a-ea37aab71ce3",
    "_uuid": "4d3fd92f5a2c1df45c198c20cda832746a5ae446"
   },
   "outputs": [],
   "source": []
  },
  {
   "cell_type": "markdown",
   "metadata": {
    "_cell_guid": "707d4a0c-d707-417f-892c-fece189453f6",
    "_uuid": "c024379718bce3905224b943d73b415a77b6ca53"
   },
   "source": [
    "From my analysis, Price increases with RM and Price decreases with increase in PTRATO and LSTAT\n",
    "\n",
    "\n",
    "\n",
    " "
   ]
  },
  {
   "cell_type": "code",
   "execution_count": 139,
   "metadata": {
    "_cell_guid": "d3d942b9-2037-4f56-8653-744951874f85",
    "_execution_state": "idle",
    "_uuid": "289cdd0d3aa468f35935dba8d8e39bca2d761c2d"
   },
   "outputs": [
    {
     "data": {
      "image/png": "[encoded data removed]",
      "text/plain": [
       "<Figure size 720x720 with 2 Axes>"
      ]
     },
     "metadata": {
      "needs_background": "light"
     },
     "output_type": "display_data"
    }
   ],
   "source": [
    "corr=dataset.corr()\n",
    "plt.figure(figsize=(10, 10))\n",
    "sns.heatmap(corr, vmax=.8, linewidths=0.01,\n",
    "            square=True,annot=True,cmap='YlGnBu',linecolor=\"white\")\n",
    "plt.title('Correlation between features');"
   ]
  },
  {
   "cell_type": "markdown",
   "metadata": {
    "_cell_guid": "73008aa6-6916-4b80-ae36-b8317331ae09",
    "_uuid": "6dff0221f531a64b8051ea8b54aeb185c7d530fe"
   },
   "source": [
    "Variables having strong Corelation with target varible MEDV are RM (.7), LSTAT(-.74), PTRATIO(-.51) \n",
    "\n",
    "Check for Missing Value"
   ]
  },
  {
   "cell_type": "markdown",
   "metadata": {
    "_cell_guid": "3b27ab3e-3c84-4d01-aee9-67b34db69eed",
    "_uuid": "0bbe26801b543efcd1e21e2f5dd351f17370548d"
   },
   "source": [
    "Feature Engineering"
   ]
  },
  {
   "cell_type": "markdown",
   "metadata": {
    "_cell_guid": "2b583e1d-2fd9-45b7-855c-39eabcd8c82d",
    "_uuid": "47e5b4d0ed0b7e787abdc5787cc65ec44a387ab5"
   },
   "source": [
    "1)  Data Standardization"
   ]
  },
  {
   "cell_type": "markdown",
   "metadata": {
    "_cell_guid": "19b64bd8-3704-45ce-add0-f304f93dcec9",
    "_uuid": "d1ec39eaebfd5e40c0ba61101814cec34ad18036"
   },
   "source": [
    "The point here is to test 'MEDV' (Price) in a very lean way. We'll do this paying attention to:\n",
    "Histogram - Kurtosis and skewness.\n",
    "Normal probability plot - Data distribution should closely follow the diagonal that represents the normal distribution."
   ]
  },
  {
   "cell_type": "code",
   "execution_count": 96,
   "metadata": {
    "_cell_guid": "1a1898ee-8210-4f18-ac8d-6b55963b8edd",
    "_uuid": "3651d45db936b3c438d2af1ea67436225cd088c1"
   },
   "outputs": [
    {
     "data": {
      "image/png": "[encoded data removed]",
      "text/plain": [
       "<Figure size 720x432 with 1 Axes>"
      ]
     },
     "metadata": {
      "needs_background": "light"
     },
     "output_type": "display_data"
    },
    {
     "data": {
      "image/png": "[encoded data removed]",
      "text/plain": [
       "<Figure size 720x432 with 1 Axes>"
      ]
     },
     "metadata": {
      "needs_background": "light"
     },
     "output_type": "display_data"
    }
   ],
   "source": [
    "from scipy import stats\n",
    "#histogram and normal probability plot\n",
    "sns.distplot(dataset['medv'], hist=True);\n",
    "fig = plt.figure()\n",
    "res = stats.probplot(dataset['medv'], plot=plt)"
   ]
  },
  {
   "cell_type": "code",
   "execution_count": 140,
   "metadata": {},
   "outputs": [
    {
     "data": {
      "text/html": [
       "<div>\n",
       "<style scoped>\n",
       "    .dataframe tbody tr th:only-of-type {\n",
       "        vertical-align: middle;\n",
       "    }\n",
       "\n",
       "    .dataframe tbody tr th {\n",
       "        vertical-align: top;\n",
       "    }\n",
       "\n",
       "    .dataframe thead th {\n",
       "        text-align: right;\n",
       "    }\n",
       "</style>\n",
       "<table border=\"1\" class=\"dataframe\">\n",
       "  <thead>\n",
       "    <tr style=\"text-align: right;\">\n",
       "      <th></th>\n",
       "      <th>crim</th>\n",
       "      <th>indus</th>\n",
       "      <th>nox</th>\n",
       "      <th>rm</th>\n",
       "      <th>tax</th>\n",
       "      <th>ptratio</th>\n",
       "      <th>lstat</th>\n",
       "      <th>medv</th>\n",
       "    </tr>\n",
       "  </thead>\n",
       "  <tbody>\n",
       "    <tr>\n",
       "      <th>0</th>\n",
       "      <td>6.3e-03</td>\n",
       "      <td>2.3</td>\n",
       "      <td>0.5</td>\n",
       "      <td>6.6</td>\n",
       "      <td>296</td>\n",
       "      <td>15.3</td>\n",
       "      <td>5.0</td>\n",
       "      <td>24.0</td>\n",
       "    </tr>\n",
       "    <tr>\n",
       "      <th>1</th>\n",
       "      <td>2.7e-02</td>\n",
       "      <td>7.1</td>\n",
       "      <td>0.5</td>\n",
       "      <td>6.4</td>\n",
       "      <td>242</td>\n",
       "      <td>17.8</td>\n",
       "      <td>9.1</td>\n",
       "      <td>21.6</td>\n",
       "    </tr>\n",
       "    <tr>\n",
       "      <th>2</th>\n",
       "      <td>3.2e-02</td>\n",
       "      <td>2.2</td>\n",
       "      <td>0.5</td>\n",
       "      <td>7.0</td>\n",
       "      <td>222</td>\n",
       "      <td>18.7</td>\n",
       "      <td>2.9</td>\n",
       "      <td>33.4</td>\n",
       "    </tr>\n",
       "    <tr>\n",
       "      <th>3</th>\n",
       "      <td>6.9e-02</td>\n",
       "      <td>2.2</td>\n",
       "      <td>0.5</td>\n",
       "      <td>7.1</td>\n",
       "      <td>222</td>\n",
       "      <td>18.7</td>\n",
       "      <td>5.3</td>\n",
       "      <td>36.2</td>\n",
       "    </tr>\n",
       "    <tr>\n",
       "      <th>4</th>\n",
       "      <td>8.8e-02</td>\n",
       "      <td>7.9</td>\n",
       "      <td>0.5</td>\n",
       "      <td>6.0</td>\n",
       "      <td>311</td>\n",
       "      <td>15.2</td>\n",
       "      <td>12.4</td>\n",
       "      <td>22.9</td>\n",
       "    </tr>\n",
       "  </tbody>\n",
       "</table>\n",
       "</div>"
      ],
      "text/plain": [
       "      crim  indus  nox   rm  tax  ptratio  lstat  medv\n",
       "0  6.3e-03    2.3  0.5  6.6  296     15.3    5.0  24.0\n",
       "1  2.7e-02    7.1  0.5  6.4  242     17.8    9.1  21.6\n",
       "2  3.2e-02    2.2  0.5  7.0  222     18.7    2.9  33.4\n",
       "3  6.9e-02    2.2  0.5  7.1  222     18.7    5.3  36.2\n",
       "4  8.8e-02    7.9  0.5  6.0  311     15.2   12.4  22.9"
      ]
     },
     "execution_count": 140,
     "metadata": {},
     "output_type": "execute_result"
    }
   ],
   "source": [
    "dataset.head()"
   ]
  },
  {
   "cell_type": "code",
   "execution_count": null,
   "metadata": {},
   "outputs": [],
   "source": []
  },
  {
   "cell_type": "markdown",
   "metadata": {
    "_cell_guid": "311d8ae1-7327-4729-9fb7-cf79d7d9e5e8",
    "_uuid": "b227315a64f1d2efda00acb20cb86303becbb724"
   },
   "source": [
    " It shows 'peakedness', positive skewness and does not follow the diagonal line.\n",
    " A simple data transformation can solve the problem.  Will do in by standardizing the data"
   ]
  },
  {
   "cell_type": "markdown",
   "metadata": {
    "_cell_guid": "b6add07c-9084-4e58-820b-c4444f257116",
    "_execution_state": "idle",
    "_uuid": "a37bfe44a94d4a1a0eb98c5bb896842990a786b0"
   },
   "source": [
    "# Prepare Data"
   ]
  },
  {
   "cell_type": "code",
   "execution_count": 147,
   "metadata": {
    "_cell_guid": "933412df-8b8f-4dbf-bdff-56452f5f5a50",
    "_execution_state": "idle",
    "_uuid": "a552a44e6c553d5558c733feb03bd6d394641749"
   },
   "outputs": [],
   "source": [
    "# Split-out validation dataset\n",
    "X = dataset.drop(['medv'],axis=1)\n",
    "y= dataset['medv']\n",
    "validation_size = 0.20\n",
    "seed = 7\n",
    "X_train, X_validation, ytrain, yvalidation = train_test_split(X, Y, test_size=validation_size, random_state=seed)\n",
    "\n"
   ]
  },
  {
   "cell_type": "code",
   "execution_count": 148,
   "metadata": {},
   "outputs": [
    {
     "data": {
      "text/plain": [
       "((266, 7), (67, 7))"
      ]
     },
     "execution_count": 148,
     "metadata": {},
     "output_type": "execute_result"
    }
   ],
   "source": [
    "X_train.shape, X_validation.shape"
   ]
  },
  {
   "cell_type": "markdown",
   "metadata": {
    "_cell_guid": "55ad12af-3021-4fa8-866a-04b63963c850",
    "_execution_state": "idle",
    "_uuid": "0b26a7c24d07647bdd9d402b77e50d9a1a6e537a"
   },
   "source": [
    "Evaluate Algorithm"
   ]
  },
  {
   "cell_type": "code",
   "execution_count": 168,
   "metadata": {
    "_cell_guid": "01098b36-a4fa-4e8e-a15e-928e1fe7a1ee",
    "_execution_state": "idle",
    "_uuid": "be7997df654889ae0ba5b548c0e671c63537120b"
   },
   "outputs": [],
   "source": [
    "# Test options and evaluation metric using Root Mean Square error method\n",
    "num_folds = 10\n",
    "seed = 7\n",
    "RMS = 'neg_mean_squared_error'\n"
   ]
  },
  {
   "cell_type": "code",
   "execution_count": 169,
   "metadata": {},
   "outputs": [],
   "source": [
    "from sklearn.metrics import r2_score"
   ]
  },
  {
   "cell_type": "code",
   "execution_count": null,
   "metadata": {},
   "outputs": [],
   "source": []
  },
  {
   "cell_type": "code",
   "execution_count": 155,
   "metadata": {
    "_cell_guid": "7736047b-e931-47e9-a9f0-8dccaf613e08",
    "_execution_state": "idle",
    "_uuid": "c22ef8eea940d2216126ba7cfc29105793cc1173"
   },
   "outputs": [],
   "source": [
    "# Spot Check Algorithms\n",
    "models = []\n",
    "models.append(('LR', LinearRegression()))\n",
    "models.append(('LASSO', Lasso()))\n",
    "models.append(('EN', ElasticNet()))\n",
    "models.append(('KNN', KNeighborsRegressor()))\n",
    "models.append(('CART', DecisionTreeRegressor()))\n",
    "models.append(('SVR', SVR()))"
   ]
  },
  {
   "cell_type": "code",
   "execution_count": 156,
   "metadata": {},
   "outputs": [
    {
     "data": {
      "text/plain": [
       "[('LR', LinearRegression(copy_X=True, fit_intercept=True, n_jobs=None,\n",
       "           normalize=False)),\n",
       " ('LASSO', Lasso(alpha=1.0, copy_X=True, fit_intercept=True, max_iter=1000,\n",
       "     normalize=False, positive=False, precompute=False, random_state=None,\n",
       "     selection='cyclic', tol=0.0001, warm_start=False)),\n",
       " ('EN', ElasticNet(alpha=1.0, copy_X=True, fit_intercept=True, l1_ratio=0.5,\n",
       "        max_iter=1000, normalize=False, positive=False, precompute=False,\n",
       "        random_state=None, selection='cyclic', tol=0.0001, warm_start=False)),\n",
       " ('KNN',\n",
       "  KNeighborsRegressor(algorithm='auto', leaf_size=30, metric='minkowski',\n",
       "            metric_params=None, n_jobs=None, n_neighbors=5, p=2,\n",
       "            weights='uniform')),\n",
       " ('CART',\n",
       "  DecisionTreeRegressor(criterion='mse', max_depth=None, max_features=None,\n",
       "             max_leaf_nodes=None, min_impurity_decrease=0.0,\n",
       "             min_impurity_split=None, min_samples_leaf=1,\n",
       "             min_samples_split=2, min_weight_fraction_leaf=0.0,\n",
       "             presort=False, random_state=None, splitter='best')),\n",
       " ('SVR', SVR(C=1.0, cache_size=200, coef0=0.0, degree=3, epsilon=0.1,\n",
       "    gamma='auto_deprecated', kernel='rbf', max_iter=-1, shrinking=True,\n",
       "    tol=0.001, verbose=False))]"
      ]
     },
     "execution_count": 156,
     "metadata": {},
     "output_type": "execute_result"
    }
   ],
   "source": [
    "models"
   ]
  },
  {
   "cell_type": "markdown",
   "metadata": {
    "_cell_guid": "ffff9a86-312f-456a-b707-f78373bd243b",
    "_execution_state": "idle",
    "_uuid": "f15daecf33c5f73761a562fe9a1832f15a6295e5"
   },
   "source": [
    "# evaluate each model in turn"
   ]
  },
  {
   "cell_type": "code",
   "execution_count": 175,
   "metadata": {
    "_cell_guid": "1a75a781-ae3d-4161-b208-80f1064daf9b",
    "_execution_state": "idle",
    "_uuid": "0a2929fbcaf8388b0df7520dbef7c1b22c06ee50"
   },
   "outputs": [
    {
     "name": "stdout",
     "output_type": "stream",
     "text": [
      "LR: 30.009863332784683 12.894675276224817\n",
      "LASSO: 32.757045570114066 14.040314422795563\n",
      "EN: 32.305157118558675 13.662143565696967\n",
      "KNN: 27.057588660968655 10.615297501773895\n",
      "CART: 28.896260683760687 18.86504065989173\n",
      "SVR: 66.84749716675023 24.22267823363084\n"
     ]
    }
   ],
   "source": [
    "results = []\n",
    "names = []\n",
    "for name, model in models:\n",
    "    kfold = KFold(n_splits=num_folds, random_state=seed)\n",
    "    cv_results = cross_val_score(model, X_train, Y_train, cv=kfold, scoring=RMS)\n",
    "    results.append(abs(cv_results))\n",
    "    names.append(name)\n",
    "    msg = '{}: {} {}'.format(name, abs(cv_results.mean()), abs(cv_results.std()))\n",
    "    print(msg)"
   ]
  },
  {
   "cell_type": "code",
   "execution_count": 173,
   "metadata": {},
   "outputs": [
    {
     "data": {
      "text/plain": [
       "['LR', 'LASSO', 'EN', 'KNN', 'CART', 'SVR']"
      ]
     },
     "execution_count": 173,
     "metadata": {},
     "output_type": "execute_result"
    }
   ],
   "source": [
    "names"
   ]
  },
  {
   "cell_type": "code",
   "execution_count": 176,
   "metadata": {},
   "outputs": [
    {
     "data": {
      "text/plain": [
       "[array([56.98387629, 29.598398  , 38.06406208, 23.04636244, 19.74646597,\n",
       "        46.03244341, 11.30087975, 28.19278873, 20.16213186, 26.97122479]),\n",
       " array([57.6473247 , 21.5947701 , 42.42429069, 27.58652553, 21.00703227,\n",
       "        45.54214549, 11.61041345, 46.81755261, 20.09398846, 33.24641239]),\n",
       " array([57.4089932 , 21.20761962, 41.82172513, 27.53791799, 20.46871268,\n",
       "        45.9351741 , 12.2026497 , 43.28780288, 20.11093827, 33.07003763]),\n",
       " array([31.8102963 , 19.58943704, 37.53914074, 20.83268148, 32.00019259,\n",
       "        42.1088    , 11.94978462, 41.15150769, 14.40323077, 19.19081538]),\n",
       " array([40.77185185, 62.4337037 , 61.3337037 , 17.09851852, 14.08592593,\n",
       "        15.09851852, 35.22423077, 13.045     , 17.27038462, 12.60076923]),\n",
       " array([ 92.2204899 ,  68.94116891,  82.20812137,  41.1486852 ,\n",
       "         66.08147871,  70.38264608,  40.7067714 , 107.32232989,\n",
       "         23.25247227,  76.21080794])]"
      ]
     },
     "execution_count": 176,
     "metadata": {},
     "output_type": "execute_result"
    }
   ],
   "source": [
    "results"
   ]
  },
  {
   "cell_type": "markdown",
   "metadata": {
    "_cell_guid": "4db591f3-127d-446c-bd87-eac31e76eef7",
    "_execution_state": "idle",
    "_uuid": "6e74a817cb45dea0f4ab0f9d079e597c8f665f15"
   },
   "source": [
    "# Compare Algorithms"
   ]
  },
  {
   "cell_type": "code",
   "execution_count": 179,
   "metadata": {
    "_cell_guid": "30b6c401-01f0-489c-92ed-83dc28af4276",
    "_execution_state": "idle",
    "_uuid": "a9fbf0e3e4d81dce1cf101894e944c33ce761b37",
    "scrolled": true
   },
   "outputs": [
    {
     "data": {
      "image/png": "[encoded data removed]",
      "text/plain": [
       "<Figure size 720x432 with 1 Axes>"
      ]
     },
     "metadata": {
      "needs_background": "light"
     },
     "output_type": "display_data"
    }
   ],
   "source": [
    "fig = plt.figure()\n",
    "fig.suptitle('Algorithm Comparison')\n",
    "ax = fig.add_subplot(111)\n",
    "plt.boxplot(results)\n",
    "ax.set_xticklabels(names)\n",
    "pyplot.show()"
   ]
  },
  {
   "cell_type": "code",
   "execution_count": null,
   "metadata": {},
   "outputs": [],
   "source": []
  },
  {
   "cell_type": "markdown",
   "metadata": {
    "_cell_guid": "1b97fb18-351a-47d0-b7eb-12d796f5034f",
    "_execution_state": "idle",
    "_uuid": "88a806db0e2044f4312db24e72e7dbcccfeb8921"
   },
   "source": [
    "# Standardize the dataset\n"
   ]
  },
  {
   "cell_type": "code",
   "execution_count": 181,
   "metadata": {
    "_cell_guid": "354aa2ae-5e8f-485c-80b8-2f27f828436e",
    "_execution_state": "idle",
    "_uuid": "40d206ce411d4031e07ec9161a295255a589dda2"
   },
   "outputs": [
    {
     "name": "stdout",
     "output_type": "stream",
     "text": [
      "ScaledLR: 30.009863 (12.894675)\n",
      "ScaledLASSO: 30.843329 (14.119841)\n",
      "ScaledEN: 33.305956 (16.203906)\n",
      "ScaledKNN: 18.350034 (11.114598)\n",
      "ScaledCART: 29.672527 (17.243786)\n",
      "ScaledSVR: 31.956308 (16.500349)\n"
     ]
    }
   ],
   "source": [
    "pipelines = []\n",
    "pipelines.append(('ScaledLR', Pipeline([('Scaler', StandardScaler()),('LR', LinearRegression())])))\n",
    "pipelines.append(('ScaledLASSO', Pipeline([('Scaler', StandardScaler()),('LASSO', Lasso())])))\n",
    "pipelines.append(('ScaledEN', Pipeline([('Scaler', StandardScaler()),('EN', ElasticNet())])))\n",
    "pipelines.append(('ScaledKNN', Pipeline([('Scaler', StandardScaler()),('KNN', KNeighborsRegressor())])))\n",
    "pipelines.append(('ScaledCART', Pipeline([('Scaler', StandardScaler()),('CART', DecisionTreeRegressor())])))\n",
    "pipelines.append(('ScaledSVR', Pipeline([('Scaler', StandardScaler()),('SVR', SVR())])))\n",
    "results = []\n",
    "names = []\n",
    "for name, model in pipelines:\n",
    "    kfold = KFold(n_splits=num_folds, random_state=seed)\n",
    "    cv_results = cross_val_score(model, X_train, Y_train, cv=kfold, scoring=RMS)\n",
    "    results.append(abs(cv_results))\n",
    "    names.append(name)\n",
    "    msg = \"%s: %f (%f)\" % (name, abs(cv_results.mean()), abs(cv_results.std()))\n",
    "    print(msg)\n"
   ]
  },
  {
   "cell_type": "markdown",
   "metadata": {
    "_cell_guid": "4c317b5f-9272-441b-9324-68f906a19847",
    "_uuid": "a7affcb23f877aa408c3c93fd4aed1d4654b05e4"
   },
   "source": [
    "# Compare Algorithms"
   ]
  },
  {
   "cell_type": "code",
   "execution_count": 182,
   "metadata": {
    "_cell_guid": "097114a3-cecd-4c53-8d56-80f95d778560",
    "_uuid": "ac34bed47e088e3e5e00051edae80aabbaaf1e2d"
   },
   "outputs": [
    {
     "data": {
      "image/png": "[encoded data removed]",
      "text/plain": [
       "<Figure size 720x432 with 1 Axes>"
      ]
     },
     "metadata": {
      "needs_background": "light"
     },
     "output_type": "display_data"
    }
   ],
   "source": [
    "fig = pyplot.figure()\n",
    "fig.suptitle('Scaled Algorithm Comparison')\n",
    "ax = fig.add_subplot(111)\n",
    "pyplot.boxplot(results)\n",
    "ax.set_xticklabels(names)\n",
    "pyplot.show()\n",
    "\n"
   ]
  },
  {
   "cell_type": "markdown",
   "metadata": {
    "_cell_guid": "fa1269a5-42e7-4861-8809-d2b07f7f33a8",
    "_uuid": "c04c39900da9c6fdd6fcc588a1a9f8744f99196f"
   },
   "source": [
    "# KNN Algorithm tuning"
   ]
  },
  {
   "cell_type": "code",
   "execution_count": 183,
   "metadata": {
    "_cell_guid": "5ce8edba-999b-4da4-a67a-a4b032139288",
    "_uuid": "766ee53fa371aa5f1a2d20462387c10e58290cf0"
   },
   "outputs": [
    {
     "name": "stdout",
     "output_type": "stream",
     "text": [
      "Best: -15.319219 using {'n_neighbors': 3}\n",
      "-21.782970 (13.813830) with: {'n_neighbors': 1}\n",
      "-15.319219 (7.415013) with: {'n_neighbors': 3}\n",
      "-18.419989 (11.272627) with: {'n_neighbors': 5}\n",
      "-19.116678 (11.517209) with: {'n_neighbors': 7}\n",
      "-20.388584 (12.562207) with: {'n_neighbors': 9}\n",
      "-21.748078 (13.314252) with: {'n_neighbors': 11}\n",
      "-22.617257 (14.054526) with: {'n_neighbors': 13}\n",
      "-23.405593 (14.405183) with: {'n_neighbors': 15}\n",
      "-24.614819 (15.363955) with: {'n_neighbors': 17}\n",
      "-26.017248 (15.847730) with: {'n_neighbors': 19}\n",
      "-26.870841 (16.179320) with: {'n_neighbors': 21}\n"
     ]
    },
    {
     "data": {
      "text/plain": [
       "(333, 8)"
      ]
     },
     "execution_count": 183,
     "metadata": {},
     "output_type": "execute_result"
    }
   ],
   "source": [
    "scaler = StandardScaler().fit(X_train)\n",
    "rescaledX = scaler.transform(X_train)\n",
    "k_values = numpy.array([1,3,5,7,9,11,13,15,17,19,21])\n",
    "param_grid = dict(n_neighbors=k_values)\n",
    "model = KNeighborsRegressor()\n",
    "kfold = KFold(n_splits=num_folds, random_state=seed)\n",
    "grid = GridSearchCV(estimator=model, param_grid=param_grid, scoring=RMS, cv=kfold)\n",
    "grid_result = grid.fit(rescaledX, Y_train)\n",
    "\n",
    "print(\"Best: %f using %s\" % (grid_result.best_score_, grid_result.best_params_))\n",
    "means = grid_result.cv_results_['mean_test_score']\n",
    "stds = grid_result.cv_results_['std_test_score']\n",
    "params = grid_result.cv_results_['params']\n",
    "for mean, stdev, param in zip(means, stds, params):\n",
    "    print(\"%f (%f) with: %r\" % (mean, stdev, param))\n",
    "dataset.shape"
   ]
  },
  {
   "cell_type": "markdown",
   "metadata": {
    "_cell_guid": "d0369be9-59e7-48ed-86d7-022c26cd3490",
    "_uuid": "01edd55eb03434b219607b81e51293919b01536a"
   },
   "source": [
    "# ensembles"
   ]
  },
  {
   "cell_type": "code",
   "execution_count": null,
   "metadata": {
    "_cell_guid": "11f24e8e-099c-40bb-940d-6b1312ded08e",
    "_uuid": "29d403e94513d84dff5ec52542b2cd80b7f3cf0f"
   },
   "outputs": [],
   "source": [
    "ensembles = []\n",
    "ensembles.append(('ScaledKNN', Pipeline([('Scaler', StandardScaler()),('KNN', KNeighborsRegressor())])))\n",
    "ensembles.append(('ScaledAB', Pipeline([('Scaler', StandardScaler()),('AB', AdaBoostRegressor())])))\n",
    "ensembles.append(('ScaledGBM', Pipeline([('Scaler', StandardScaler()),('GBM', GradientBoostingRegressor())])))\n",
    "ensembles.append(('ScaledRF', Pipeline([('Scaler', StandardScaler()),('RF', RandomForestRegressor())])))\n",
    "ensembles.append(('ScaledET', Pipeline([('Scaler', StandardScaler()),('ET', ExtraTreesRegressor())])))\n",
    "results = []\n",
    "names = []\n",
    "for name, model in ensembles:\n",
    "\tkfold = KFold(n_splits=num_folds, random_state=seed)\n",
    "\tcv_results = cross_val_score(model, X_train, Y_train, cv=kfold, scoring=RMS)\n",
    "\tresults.append(cv_results)\n",
    "\tnames.append(name)\n",
    "\tmsg = \"%s: %f (%f)\" % (name, cv_results.mean(), cv_results.std())\n",
    "\tprint(msg)\n",
    "dataset.shape"
   ]
  },
  {
   "cell_type": "markdown",
   "metadata": {
    "_cell_guid": "d4f89f6e-d197-4a69-ba4f-8559202fb46b",
    "_uuid": "3b33733cab1d4ba8bec879cd61b51af92c7fa8da"
   },
   "source": [
    "When we compare, GBM has better accuracy than KNN"
   ]
  },
  {
   "cell_type": "markdown",
   "metadata": {
    "_cell_guid": "9eadd15f-f6e3-44ec-872f-bd946679e7b6",
    "_uuid": "7047f10f4161488dd1c7e4324a0ad2082bdb5d1d"
   },
   "source": [
    "# Compare Algorithms"
   ]
  },
  {
   "cell_type": "code",
   "execution_count": null,
   "metadata": {
    "_cell_guid": "52b46849-dd33-47b5-ae13-6d2248f00cb4",
    "_uuid": "b07795bf5321412c79d95298c9ae4453bb774198"
   },
   "outputs": [],
   "source": [
    "fig = pyplot.figure()\n",
    "fig.suptitle('Scaled Ensemble Algorithm Comparison')\n",
    "ax = fig.add_subplot(111)\n",
    "pyplot.boxplot(results)\n",
    "ax.set_xticklabels(names)\n",
    "pyplot.show()"
   ]
  },
  {
   "cell_type": "markdown",
   "metadata": {
    "_cell_guid": "f0d11385-cb4a-4339-bff8-23c4b2db9dc9",
    "_uuid": "477942dda6a82ef0e758f03799a8a38904db6c1c"
   },
   "source": [
    "So Our chosen Algorithm is GBM and letz tune"
   ]
  },
  {
   "cell_type": "markdown",
   "metadata": {
    "_cell_guid": "e0ac14af-56f4-43bb-a9bc-9696ce7aa20f",
    "_uuid": "018b55feedc1b2f81e09f6a532ab236d511afa07"
   },
   "source": [
    "# Tune scaled GBM"
   ]
  },
  {
   "cell_type": "code",
   "execution_count": null,
   "metadata": {
    "_cell_guid": "6a185e05-0e19-431c-ba60-77e9d2cc4153",
    "_uuid": "cb4343719c4202f4f8e2483ce9b4af275e1b0765"
   },
   "outputs": [],
   "source": [
    "scaler = StandardScaler().fit(X_train)\n",
    "rescaledX = scaler.transform(X_train)\n",
    "param_grid = dict(n_estimators=numpy.array([50,100,150,200,250,300,350,400]))\n",
    "model = GradientBoostingRegressor(random_state=seed)\n",
    "kfold = KFold(n_splits=num_folds, random_state=seed)\n",
    "grid = GridSearchCV(estimator=model, param_grid=param_grid, scoring=RMS, cv=kfold)\n",
    "grid_result = grid.fit(rescaledX, Y_train)\n",
    "\n",
    "print(\"Best: %f using %s\" % (grid_result.best_score_, grid_result.best_params_))\n",
    "means = grid_result.cv_results_['mean_test_score']\n",
    "stds = grid_result.cv_results_['std_test_score']\n",
    "params = grid_result.cv_results_['params']\n",
    "for mean, stdev, param in zip(means, stds, params):\n",
    "    print(\"%f (%f) with: %r\" % (mean, stdev, param))\n"
   ]
  },
  {
   "cell_type": "markdown",
   "metadata": {
    "_cell_guid": "67dba098-d28d-4467-92d8-59d3ba026e54",
    "_uuid": "c2dec1389ea82d00d6d11d3a5bc7fb60df28b986",
    "collapsed": true
   },
   "source": [
    "\n",
    "# Make predictions on validation dataset\n",
    "Our Model is ready for predition with our Validation set"
   ]
  },
  {
   "cell_type": "code",
   "execution_count": null,
   "metadata": {
    "_cell_guid": "b55b1946-9c46-470c-88d0-4d02869b8176",
    "_uuid": "057d438322a39ee9e51b3435380c34614d4abb9c"
   },
   "outputs": [],
   "source": [
    "\n",
    "# prepare the model\n",
    "scaler = StandardScaler().fit(X_train)\n",
    "rescaledX = scaler.transform(X_train)\n",
    "model = GradientBoostingRegressor(random_state=seed, n_estimators=400)\n",
    "model.fit(rescaledX, Y_train)\n",
    "# transform the validation dataset\n",
    "rescaledValidationX = scaler.transform(X_validation)\n",
    "predictions = model.predict(rescaledValidationX)\n",
    "print(mean_squared_error(Y_validation, predictions))\n"
   ]
  },
  {
   "cell_type": "code",
   "execution_count": null,
   "metadata": {
    "_cell_guid": "c54fb81b-011f-462e-a32c-c08949c42bc7",
    "_uuid": "8aa0f70ba34b68bd9ad61591f5d36387dd9e1449",
    "collapsed": true
   },
   "outputs": [],
   "source": [
    "\n",
    "\n",
    "predictions=predictions.astype(int)\n",
    "submission = pd.DataFrame({\n",
    "        \"Org House Price\": Y_validation,\n",
    "        \"Pred House Price\": predictions\n",
    "    })\n",
    "\n",
    "submission.to_csv(\"PredictedPrice.csv\", index=False)\n"
   ]
  },
  {
   "cell_type": "code",
   "execution_count": null,
   "metadata": {
    "_cell_guid": "3f39eeeb-0d05-4ef2-b6fb-b68864b3423b",
    "_uuid": "2a7c4788e9dcc183a647c890d8b5b82af8aafb38",
    "collapsed": true
   },
   "outputs": [],
   "source": []
  }
 ],
 "metadata": {
  "kernelspec": {
   "display_name": "Python 3",
   "language": "python",
   "name": "python3"
  },
  "language_info": {
   "codemirror_mode": {
    "name": "ipython",
    "version": 3
   },
   "file_extension": ".py",
   "mimetype": "text/x-python",
   "name": "python",
   "nbconvert_exporter": "python",
   "pygments_lexer": "ipython3",
   "version": "3.7.1"
  }
 },
 "nbformat": 4,
 "nbformat_minor": 1
}
